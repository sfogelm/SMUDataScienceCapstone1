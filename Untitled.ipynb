{
 "cells": [
  {
   "cell_type": "code",
   "execution_count": 3,
   "metadata": {
    "collapsed": false
   },
   "outputs": [
    {
     "name": "stdout",
     "output_type": "stream",
     "text": [
      "Enter a number: 50\n",
      "Enter a number: 50\n",
      "Enter a number: 50\n",
      "The total is over 100.\n",
      "Total: 150\n",
      "Count: 3\n"
     ]
    }
   ],
   "source": [
    "count = 0\n",
    "total = 0\n",
    "while True:\n",
    "    number = int(input(\"Enter a number: \"))\n",
    "    count = count + 1\n",
    "    total = number + total\n",
    "    if (count == 5):\n",
    "        print(\"The count has reached 5 so the program has ended.\")\n",
    "        break\n",
    "    if (total>100):\n",
    "        print(\"The total is over 100.\")\n",
    "        break\n",
    "print(\"Total: %d\" %(total))\n",
    "print(\"Count: %d\" %(count))"
   ]
  },
  {
   "cell_type": "code",
   "execution_count": null,
   "metadata": {
    "collapsed": true
   },
   "outputs": [],
   "source": []
  }
 ],
 "metadata": {
  "kernelspec": {
   "display_name": "Python [conda env:anaconda]",
   "language": "python",
   "name": "conda-env-anaconda-py"
  },
  "language_info": {
   "codemirror_mode": {
    "name": "ipython",
    "version": 3
   },
   "file_extension": ".py",
   "mimetype": "text/x-python",
   "name": "python",
   "nbconvert_exporter": "python",
   "pygments_lexer": "ipython3",
   "version": "3.5.2"
  }
 },
 "nbformat": 4,
 "nbformat_minor": 1
}
